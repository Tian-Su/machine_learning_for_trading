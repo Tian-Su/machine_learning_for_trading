{
 "cells": [
  {
   "cell_type": "code",
   "execution_count": 11,
   "metadata": {
    "collapsed": false
   },
   "outputs": [],
   "source": [
    "\"\"\"MC1-P1: Analyze a portfolio.\"\"\"\n",
    "import sys\n",
    "sys.path.append('/Users/tiansu/Documents/git/ml4t/ML4T_2017Summer/')\n",
    "import pandas as pd\n",
    "import matplotlib.pyplot as plt\n",
    "import numpy as np\n",
    "import datetime as dt\n",
    "from util import get_data, plot_data\n",
    "%matplotlib inline\n",
    "\n",
    "def cal_daily_portfolio_val(prices, allocs, start_val):\n",
    "    \"\"\"\n",
    "    calculate daily portfolio values\n",
    "    \"\"\"\n",
    "    df = prices / prices.ix[0]\n",
    "    df = df * allocs * start_val\n",
    "    return df.sum(axis=1)\n",
    "\n",
    "def cal_portfolio_stats(port_val, rfr=0, sf=252):\n",
    "    \"\"\"\n",
    "    calculate cr, adr, sddr, sr, ev\n",
    "    \"\"\"\n",
    "    # Cumulative return\n",
    "    cr = (port_val[-1] / port_val[0]) - 1 \n",
    "    # Average period return\n",
    "    daily_return = (port_val / port_val.shift(1)) - 1\n",
    "    adr = daily_return.mean()\n",
    "    # Standard deviation of daily return\n",
    "    sddr = daily_return.std()\n",
    "    # Sharpe ratio\n",
    "    sr = ((daily_return - rfr).mean() / sddr) * np.sqrt(sf)\n",
    "\n",
    "    return cr, adr, sddr, sr\n",
    "\n",
    "# This is the function that will be tested by the autograder\n",
    "# The student must update this code to properly implement the functionality\n",
    "def assess_portfolio(sd = dt.datetime(2008,1,1), ed = dt.datetime(2009,1,1), \\\n",
    "    syms = ['GOOG','AAPL','GLD','XOM'], \\\n",
    "    allocs=[0.1,0.2,0.3,0.4], \\\n",
    "    sv=1000000, rfr=0.0, sf=252.0, \\\n",
    "    gen_plot=False):\n",
    "\n",
    "    # Read in adjusted closing prices for given symbols, date range\n",
    "    dates = pd.date_range(sd, ed)\n",
    "    prices_all = get_data(syms, dates)  # automatically adds SPY\n",
    "    prices = prices_all[syms]  # only portfolio symbols\n",
    "    prices_SPY = prices_all['SPY']  # only SPY, for comparison later\n",
    "\n",
    "    # Get daily portfolio value\n",
    "    port_val = cal_daily_portfolio_val(prices, allocs, sv) # add code here to compute daily portfolio values\n",
    "    # print port_val\n",
    "    # Get portfolio statistics (note: std_daily_ret = volatility)\n",
    "    cr, adr, sddr, sr = cal_portfolio_stats(port_val, rfr=0, sf=252)\n",
    "    # [0.25, 0.001, 0.0005, 2.1] # add code here to compute stats\n",
    "    \n",
    "    # Compare daily portfolio value with SPY using a normalized plot\n",
    "    if gen_plot:\n",
    "        # add code to plot here\n",
    "        df_temp = pd.concat([port_val, prices_SPY], keys=['Portfolio', 'SPY'], axis=1)\n",
    "        pass\n",
    "\n",
    "    # Add code here to properly compute end value\n",
    "    ev = port_val.ix[-1]\n",
    "\n",
    "    return cr, adr, sddr, sr, ev, df_temp\n",
    "\n",
    "def test_code():\n",
    "    # This code WILL NOT be tested by the auto grader\n",
    "    # It is only here to help you set up and test your code\n",
    "\n",
    "    # Define input parameters\n",
    "    # Note that ALL of these values will be set to different values by\n",
    "    # the autograder!\n",
    "    start_date = dt.datetime(2009,1,1)\n",
    "    end_date = dt.datetime(2010,1,1)\n",
    "    symbols = ['GOOG', 'AAPL', 'GLD', 'XOM']\n",
    "    allocations = [0.2, 0.3, 0.4, 0.1]\n",
    "    start_val = 1000000  \n",
    "    risk_free_rate = 0.0\n",
    "    sample_freq = 252\n",
    "\n",
    "    # Assess the portfolio\n",
    "    cr, adr, sddr, sr, ev, df_temp = assess_portfolio(sd = start_date, ed = end_date,\\\n",
    "        syms = symbols, \\\n",
    "        allocs = allocations,\\\n",
    "        sv = start_val, \\\n",
    "        gen_plot = True)\n",
    "\n",
    "    # Print statistics\n",
    "    print \"Start Date:\", start_date\n",
    "    print \"End Date:\", end_date\n",
    "    print \"Symbols:\", symbols\n",
    "    print \"Allocations:\", allocations\n",
    "    print \"Sharpe Ratio:\", sr\n",
    "    print \"Volatility (stdev of daily returns):\", sddr\n",
    "    print \"Average Daily Return:\", adr\n",
    "    print \"Cumulative Return:\", cr\n",
    "    return df_temp"
   ]
  },
  {
   "cell_type": "code",
   "execution_count": 6,
   "metadata": {
    "collapsed": false
   },
   "outputs": [
    {
     "name": "stdout",
     "output_type": "stream",
     "text": [
      "Start Date: 2009-01-01 00:00:00\n",
      "End Date: 2010-01-01 00:00:00\n",
      "Symbols: ['GOOG', 'AAPL', 'GLD', 'XOM']\n",
      "Allocations: [0.2, 0.3, 0.4, 0.1]\n",
      "Sharpe Ratio: 2.79622139929\n",
      "Volatility (stdev of daily returns): 0.0119577327574\n",
      "Average Daily Return: 0.00210629951522\n",
      "Cumulative Return: 0.665786603962\n"
     ]
    }
   ],
   "source": [
    "df_temp = test_code()"
   ]
  },
  {
   "cell_type": "code",
   "execution_count": 9,
   "metadata": {
    "collapsed": false
   },
   "outputs": [],
   "source": [
    "a = df_temp/df_temp.ix[0]"
   ]
  },
  {
   "cell_type": "code",
   "execution_count": 20,
   "metadata": {
    "collapsed": false
   },
   "outputs": [
    {
     "data": {
      "image/png": "[encoded data removed]",
      "text/plain": [
       "<matplotlib.figure.Figure at 0x119ae4f90>"
      ]
     },
     "metadata": {},
     "output_type": "display_data"
    }
   ],
   "source": [
    "\n",
    "a = df_temp/df_temp.ix[0]\n",
    "a.plot()\n",
    "plt.legend()\n",
    "plt.xlabel('Date')\n",
    "plt.ylabel('Normalized Price')\n",
    "plt.grid()\n",
    "plt.title('Daily portfolio value and SPY')\n",
    "plt.savefig('plot.png')"
   ]
  },
  {
   "cell_type": "code",
   "execution_count": null,
   "metadata": {
    "collapsed": true
   },
   "outputs": [],
   "source": []
  }
 ],
 "metadata": {
  "kernelspec": {
   "display_name": "Python 2",
   "language": "python",
   "name": "python2"
  },
  "language_info": {
   "codemirror_mode": {
    "name": "ipython",
    "version": 2
   },
   "file_extension": ".py",
   "mimetype": "text/x-python",
   "name": "python",
   "nbconvert_exporter": "python",
   "pygments_lexer": "ipython2",
   "version": "2.7.13"
  }
 },
 "nbformat": 4,
 "nbformat_minor": 2
}
